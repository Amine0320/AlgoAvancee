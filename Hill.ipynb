{
 "cells": [
  {
   "cell_type": "code",
   "execution_count": 740,
   "metadata": {},
   "outputs": [],
   "source": [
    "import random\n",
    "import numpy as np\n",
    "import random\n",
    "import matplotlib.pyplot as plt\n",
    "import time\n",
    "from collections import deque \n",
    "# import pulp  "
   ]
  },
  {
   "cell_type": "code",
   "execution_count": 741,
   "metadata": {},
   "outputs": [],
   "source": [
    "def generate_tsp_incomplete(num_sommets, max_poids_arete, max_intervalle_inf, max_intervalle_sup):\n",
    "    # Initialisation de la matrice de poids avec des valeurs infinies\n",
    "    matrice = [[float('inf') for _ in range(num_sommets)] for _ in range(num_sommets)]\n",
    "\n",
    "    intervalles = {}\n",
    "    for i in range(num_sommets):\n",
    "        intervalle_start = random.randint(0, max_intervalle_inf)\n",
    "        intervalle_end = intervalle_start + random.randint(max_intervalle_inf, max_intervalle_sup)\n",
    "        intervalles[i] = (intervalle_start, intervalle_end)\n",
    "\n",
    "    # Utiliser Prim's algorithm pour créer un arbre couvrant minimal (MST)\n",
    "    connected = set([0])\n",
    "    edges = []\n",
    "\n",
    "    while len(connected) < num_sommets:\n",
    "        min_edge = (None, None, float('inf'))\n",
    "        for u in connected:\n",
    "            for v in range(num_sommets):\n",
    "                if v not in connected and u != v:\n",
    "                    poids = random.randint(1, max_poids_arete)\n",
    "                    if poids < min_edge[2]:\n",
    "                        min_edge = (u, v, poids)\n",
    "        u, v, poids = min_edge\n",
    "        if u is not None and v is not None:\n",
    "            matrice[u][v] = poids\n",
    "            matrice[v][u] = poids\n",
    "            connected.add(v)\n",
    "            edges.append((u, v, poids))\n",
    "\n",
    "    # Ajouter des arêtes supplémentaires de manière aléatoire\n",
    "    for i in range(num_sommets):\n",
    "        for j in range(i + 1, num_sommets):\n",
    "            if matrice[i][j] == float('inf') and random.choice([True, False]):\n",
    "                poids = random.randint(1, max_poids_arete)\n",
    "                matrice[i][j] = poids\n",
    "                matrice[j][i] = poids\n",
    "\n",
    "    return np.array(matrice), intervalles\n",
    "\n"
   ]
  },
  {
   "cell_type": "code",
   "execution_count": 742,
   "metadata": {},
   "outputs": [
    {
     "name": "stdout",
     "output_type": "stream",
     "text": [
      "\n",
      "Matrice pondérée:\n",
      "[inf  5. inf inf inf]\n",
      "[ 5. inf  1.  2.  2.]\n",
      "[inf  1. inf  1.  1.]\n",
      "[inf  2.  1. inf  6.]\n",
      "[inf  2.  1.  6. inf]\n",
      "\n",
      "Intervalles des sommets\n",
      "{0: (12, 77), 1: (19, 39), 2: (4, 72), 3: (2, 55), 4: (8, 60)}\n"
     ]
    }
   ],
   "source": [
    "#Variables nécessaires\n",
    "num_sommets = 5\n",
    "max_poids_arete = 10\n",
    "max_intervalle_inf = 20\n",
    "max_intervalle_sup = 100\n",
    "\n",
    "# Générer les données du problème\n",
    "tsp_matrice, tsp_intervalles = generate_tsp_incomplete(num_sommets, max_poids_arete, max_intervalle_inf, max_intervalle_sup)\n",
    "\n",
    "# Afficher la matrice pondérée\n",
    "print(\"\\nMatrice pondérée:\")\n",
    "for row in tsp_matrice:\n",
    "    print(row)\n",
    "\n",
    "# Afficher les intervalles\n",
    "print(\"\\nIntervalles des sommets\")\n",
    "print(tsp_intervalles)"
   ]
  },
  {
   "cell_type": "code",
   "execution_count": 743,
   "metadata": {},
   "outputs": [],
   "source": [
    "def calculate_cost(tour, matrice):\n",
    "    cost = 0\n",
    "    for i in range(len(tour) - 1):\n",
    "        cost += matrice[tour[i]][tour[i + 1]] \n",
    "    cost += matrice[tour[-1]][tour[0]]  # Return to the starting city \n",
    "    return cost"
   ]
  },
  {
   "cell_type": "code",
   "execution_count": 744,
   "metadata": {},
   "outputs": [],
   "source": [
    "def is_within_intervals(tour, intervalles):\n",
    "    for i in range(len(tour)):\n",
    "        start_time = i\n",
    "        interval_start, interval_end = intervalles[tour[i]]\n",
    "        if not (interval_start <= start_time <= interval_end):\n",
    "            return False\n",
    "    return True"
   ]
  },
  {
   "cell_type": "code",
   "execution_count": 745,
   "metadata": {},
   "outputs": [],
   "source": [
    "def generate_neighbor(tour):\n",
    "    i, j = random.sample(range(len(tour)), 2)\n",
    "    tour[i], tour[j] = tour[j], tour[i]\n",
    "    return tour"
   ]
  },
  {
   "cell_type": "code",
   "execution_count": 746,
   "metadata": {},
   "outputs": [],
   "source": [
    "def hill_climbing(matrice, intervalles, max_iterations=1000):\n",
    "    num_sommets = len(matrice)\n",
    "    current_solution = list(range(num_sommets))\n",
    "    random.shuffle(current_solution)\n",
    "    \n",
    "    current_cost = calculate_cost(current_solution, matrice)\n",
    "    \n",
    "    for _ in range(max_iterations):\n",
    "        neighbor = generate_neighbor(current_solution.copy())\n",
    "        neighbor_cost = calculate_cost(neighbor, matrice)\n",
    "        \n",
    "        if neighbor_cost != float('inf') and neighbor_cost < current_cost and is_within_intervals(neighbor, intervalles):\n",
    "            current_solution = neighbor\n",
    "            current_cost = neighbor_cost\n",
    "            \n",
    "    return current_solution, current_cost "
   ]
  },
  {
   "cell_type": "code",
   "execution_count": 747,
   "metadata": {},
   "outputs": [],
   "source": [
    "def plot_route(path, points, matrice):\n",
    "    plt.figure(figsize=(10, 5))\n",
    "    plt.scatter(points[:, 0], points[:, 1], c='blue')\n",
    "\n",
    "    # Highlight the start node\n",
    "    start_node = path[0]\n",
    "    plt.scatter(points[start_node, 0], points[start_node, 1], c='red', label='Start Node')\n",
    "\n",
    "    # Annotate nodes with their indices\n",
    "    for idx, point in enumerate(points):\n",
    "        plt.text(point[0], point[1], str(idx), fontsize=12, ha='right', va='bottom')\n",
    "\n",
    "    for i in range(len(path) - 1):\n",
    "        from_node = path[i]\n",
    "        to_node = path[i + 1]\n",
    "        plt.plot([points[from_node, 0], points[to_node, 0]], \n",
    "                 [points[from_node, 1], points[to_node, 1]], 'k-')\n",
    "        # Add weights (distances) on the edges\n",
    "        mid_point = (points[from_node] + points[to_node]) / 2\n",
    "        weight = matrice[from_node][to_node]\n",
    "        plt.text(mid_point[0] + 2, mid_point[1] + 2, f'{weight:.2f}', fontsize=9, color='green')\n",
    "\n",
    "    # Add the weight for the edge returning to the start node\n",
    "    from_node = path[-1]\n",
    "    to_node = path[0]\n",
    "    plt.plot([points[from_node, 0], points[to_node, 0]], \n",
    "             [points[from_node, 1], points[to_node, 1]], 'k-')\n",
    "    mid_point = (points[from_node] + points[to_node]) / 2\n",
    "    weight = matrice[from_node][to_node]\n",
    "    plt.text(mid_point[0] + 2, mid_point[1] + 2, f'{weight:.2f}', fontsize=9, color='green')\n",
    "\n",
    "    plt.title('Best Route Found')\n",
    "    plt.xlabel('X Coordinate')\n",
    "    plt.ylabel('Y Coordinate')\n",
    "    plt.legend()\n",
    "    plt.show()  "
   ]
  },
  {
   "cell_type": "code",
   "execution_count": 748,
   "metadata": {},
   "outputs": [
    {
     "data": {
      "image/png": "[encoded data removed]",
      "text/plain": [
       "<Figure size 1000x500 with 1 Axes>"
      ]
     },
     "metadata": {},
     "output_type": "display_data"
    },
    {
     "name": "stdout",
     "output_type": "stream",
     "text": [
      "Best tour: [1, 0, 2, 4, 3]\n",
      "Tour cost: 10.0\n"
     ]
    }
   ],
   "source": [
    "# Example usage\n",
    "points = np.random.rand(num_sommets, 2) * 100 \n",
    "num_sommets = 5\n",
    "max_poids_arete = 10\n",
    "max_intervalle_inf = 3\n",
    "max_intervalle_sup = 6 \n",
    "matrice, intervalles = generate_tsp_incomplete(num_sommets, max_poids_arete, max_intervalle_inf, max_intervalle_sup)\n",
    "solution, cost = hill_climbing(matrice, intervalles)   \n",
    "if solution:\n",
    "    plot_route(solution, points, tsp_matrice)   \n",
    "print(\"Best tour:\", solution)\n",
    "print(\"Tour cost:\", cost)   "
   ]
  }
 ],
 "metadata": {
  "kernelspec": {
   "display_name": "base",
   "language": "python",
   "name": "python3"
  },
  "language_info": {
   "codemirror_mode": {
    "name": "ipython",
    "version": 3
   },
   "file_extension": ".py",
   "mimetype": "text/x-python",
   "name": "python",
   "nbconvert_exporter": "python",
   "pygments_lexer": "ipython3",
   "version": "3.11.7"
  }
 },
 "nbformat": 4,
 "nbformat_minor": 2
}
