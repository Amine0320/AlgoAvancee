{
 "cells": [
  {
   "cell_type": "code",
   "execution_count": 1,
   "metadata": {},
   "outputs": [
    {
     "name": "stdout",
     "output_type": "stream",
     "text": [
      "\n",
      "Matrice pondérée:\n",
      "[inf inf inf  5.  4.]\n",
      "[inf inf  8. inf inf]\n",
      "[inf  8. inf  1.  1.]\n",
      "[ 5. inf  1. inf  1.]\n",
      "[ 4. inf  1.  1. inf]\n",
      "\n",
      "Intervalles des sommets\n",
      "{0: (1, 7), 1: (10, 28), 2: (5, 23), 3: (3, 22), 4: (9, 17)}\n"
     ]
    }
   ],
   "source": [
    "import random\n",
    "import numpy as np\n",
    "\n",
    "# Générer le graphe TSP incomplet\n",
    "def generate_tsp_incomplete(num_sommets, max_poids_arete):\n",
    "    matrice = [[None for _ in range(num_sommets)] for _ in range(num_sommets)]\n",
    "    intervalles = {}\n",
    "    for i in range(num_sommets):\n",
    "        intervalle_start = random.randint(0, 10)\n",
    "        intervalle_end = intervalle_start + random.randint(5, 20)\n",
    "        intervalles[i] = (intervalle_start, intervalle_end)\n",
    "    for i in range(num_sommets):\n",
    "        for j in range(i + 1, num_sommets):\n",
    "            if random.choice([True, False]):\n",
    "                poids = random.randint(1, max_poids_arete)\n",
    "                matrice[i][j] = poids\n",
    "                matrice[j][i] = poids\n",
    "    for i in range(num_sommets):\n",
    "        pas_connexe = True\n",
    "        for j in range(num_sommets):\n",
    "            if matrice[i][j] is None:\n",
    "                matrice[i][j] = float('inf')\n",
    "            else:\n",
    "                pas_connexe = False\n",
    "        if pas_connexe:\n",
    "            poids = random.randint(1, max_poids_arete)\n",
    "            matrice[i][num_sommets-1] = poids\n",
    "            matrice[num_sommets-1][i] = poids\n",
    "    return np.array(matrice), intervalles\n",
    "\n",
    "num_sommets = 5\n",
    "max_poids_arete = 10 \n",
    "\n",
    "# Générer les données du problème\n",
    "tsp_matrice, tsp_intervalles = generate_tsp_incomplete(num_sommets, max_poids_arete)\n",
    "\n",
    "# Afficher la matrice pondérée\n",
    "print(\"\\nMatrice pondérée:\")\n",
    "for row in tsp_matrice:\n",
    "    print(row)\n",
    "\n",
    "# Afficher les intervalles\n",
    "print(\"\\nIntervalles des sommets\")\n",
    "print(tsp_intervalles)  "
   ]
  },
  {
   "cell_type": "code",
   "execution_count": 2,
   "metadata": {},
   "outputs": [],
   "source": [
    "import random\n",
    "import numpy as np \n",
    "\n",
    "# Calculer la longueur d'un chemin donné\n",
    "def calculate_path_length(matrice, path):\n",
    "    length = 0\n",
    "    for i in range(len(path) - 1):\n",
    "        length += matrice[path[i]][path[i + 1]]\n",
    "    length += matrice[path[-1]][path[0]]  # Retourner au point de départ\n",
    "    return length\n",
    "\n",
    "# Implémentation de l'algorithme hill climbing\n",
    "def hill_climbing(matrice, num_iterations=1000):\n",
    "    num_sommets = len(matrice) \n",
    "    \n",
    "    # Générer une solution initiale aléatoire\n",
    "    current_solution = list(range(num_sommets))\n",
    "    random.shuffle(current_solution)\n",
    "    current_length = calculate_path_length(matrice, current_solution)\n",
    "    \n",
    "    for _ in range(num_iterations):\n",
    "        # Générer une solution voisine en échangeant deux sommets\n",
    "        next_solution = current_solution[:]\n",
    "        i, j = random.sample(range(num_sommets), 2)\n",
    "        next_solution[i], next_solution[j] = next_solution[j], next_solution[i]\n",
    "        \n",
    "        next_length = calculate_path_length(matrice, next_solution)\n",
    "        \n",
    "        # Si la solution voisine est meilleure, l'adopter\n",
    "        if next_length < current_length:\n",
    "            current_solution = next_solution\n",
    "            current_length = next_length\n",
    "            \n",
    "    return current_solution, current_length "
   ]
  },
  {
   "cell_type": "code",
   "execution_count": 6,
   "metadata": {},
   "outputs": [],
   "source": [
    "# best_path, best_path_length = hill_climbing()   \n",
    "# print(f\"Meilleur chemin trouvé pour eme iteration : {best_path} avec une longueur de {best_path_length}\")   "
   ]
  },
  {
   "cell_type": "code",
   "execution_count": 7,
   "metadata": {},
   "outputs": [
    {
     "name": "stdout",
     "output_type": "stream",
     "text": [
      "\n",
      "Matrice pondérée:\n",
      "[inf inf  9. inf inf]\n",
      "[inf inf inf  8.  1.]\n",
      "[ 9. inf inf  7.  2.]\n",
      "[inf  8.  7. inf  6.]\n",
      "[inf  1.  2.  6. inf]\n",
      "\n",
      "Intervalles des sommets:\n",
      "{0: (5, 25), 1: (1, 17), 2: (2, 13), 3: (2, 18), 4: (6, 13)}\n",
      "\n",
      "Solution trouvée par hill climbing:\n",
      "Chemin: [0, 4, 1, 2, 3]\n",
      "Longueur du chemin: inf\n"
     ]
    }
   ],
   "source": [
    "tsp_matrice, tsp_intervalles = generate_tsp_incomplete(num_sommets, max_poids_arete)\n",
    "\n",
    "# Afficher la matrice pondérée\n",
    "print(\"\\nMatrice pondérée:\")\n",
    "for row in tsp_matrice:\n",
    "    print(row)\n",
    "\n",
    "# Afficher les intervalles\n",
    "print(\"\\nIntervalles des sommets:\")\n",
    "print(tsp_intervalles)\n",
    "\n",
    "# Résoudre le problème avec l'algorithme hill climbing\n",
    "solution, length = hill_climbing(tsp_matrice)\n",
    "\n",
    "# Afficher la solution trouvée et sa longueur\n",
    "print(\"\\nSolution trouvée par hill climbing:\")\n",
    "print(\"Chemin:\", solution)\n",
    "print(\"Longueur du chemin:\", length)  "
   ]
  }
 ],
 "metadata": {
  "kernelspec": {
   "display_name": "base",
   "language": "python",
   "name": "python3"
  },
  "language_info": {
   "codemirror_mode": {
    "name": "ipython",
    "version": 3
   },
   "file_extension": ".py",
   "mimetype": "text/x-python",
   "name": "python",
   "nbconvert_exporter": "python",
   "pygments_lexer": "ipython3",
   "version": "3.11.7"
  }
 },
 "nbformat": 4,
 "nbformat_minor": 2
}
