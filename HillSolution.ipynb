{
 "cells": [
  {
   "cell_type": "code",
   "execution_count": 15,
   "metadata": {},
   "outputs": [
    {
     "name": "stdout",
     "output_type": "stream",
     "text": [
      "\n",
      "Matrice pondérée:\n",
      "[inf inf inf inf  4.]\n",
      "[inf inf  9.  9.  6.]\n",
      "[inf  9. inf  7.  9.]\n",
      "[inf  9.  7. inf 10.]\n",
      "[ 4.  6.  9. 10. inf]\n",
      "\n",
      "Intervalles des sommets\n",
      "{0: (4, 9), 1: (7, 22), 2: (4, 16), 3: (4, 13), 4: (8, 17)}\n"
     ]
    }
   ],
   "source": [
    "import random\n",
    "import numpy as np \n",
    "import matplotlib.pyplot as plt \n",
    "import time \n",
    "\n",
    "# Générer le graphe TSP incomplet\n",
    "def generate_tsp_incomplete(num_sommets, max_poids_arete):\n",
    "    matrice = [[None for _ in range(num_sommets)] for _ in range(num_sommets)]\n",
    "    intervalles = {}\n",
    "    for i in range(num_sommets):\n",
    "        intervalle_start = random.randint(0, 10)\n",
    "        intervalle_end = intervalle_start + random.randint(5, 20)\n",
    "        intervalles[i] = (intervalle_start, intervalle_end)\n",
    "    for i in range(num_sommets):\n",
    "        for j in range(i + 1, num_sommets):\n",
    "            if random.choice([True, False]):\n",
    "                poids = random.randint(1, max_poids_arete)\n",
    "                matrice[i][j] = poids\n",
    "                matrice[j][i] = poids\n",
    "    for i in range(num_sommets):\n",
    "        pas_connexe = True\n",
    "        for j in range(num_sommets):\n",
    "            if matrice[i][j] is None:\n",
    "                matrice[i][j] = float('inf')\n",
    "            else:\n",
    "                pas_connexe = False\n",
    "        if pas_connexe:\n",
    "            poids = random.randint(1, max_poids_arete)\n",
    "            matrice[i][num_sommets-1] = poids\n",
    "            matrice[num_sommets-1][i] = poids\n",
    "    return np.array(matrice), intervalles\n",
    "\n",
    "num_sommets = 5\n",
    "max_poids_arete = 10 \n",
    "\n",
    "# Générer les données du problème\n",
    "tsp_matrice, tsp_intervalles = generate_tsp_incomplete(num_sommets, max_poids_arete)\n",
    "\n",
    "# Afficher la matrice pondérée\n",
    "print(\"\\nMatrice pondérée:\")\n",
    "for row in tsp_matrice:\n",
    "    print(row)\n",
    "\n",
    "# Afficher les intervalles\n",
    "print(\"\\nIntervalles des sommets\")\n",
    "print(tsp_intervalles)  "
   ]
  },
  {
   "cell_type": "code",
   "execution_count": 16,
   "metadata": {},
   "outputs": [],
   "source": [
    "import random\n",
    "import numpy as np \n",
    "\n",
    "def is_valid_solution(solution, matrice, intervalles):\n",
    "    # Validate if the solution respects the interval constraints\n",
    "    path_length = calculate_path_length(matrice, solution)\n",
    "    for city in range(len(solution)):\n",
    "        min_weight, max_weight = intervalles[city]\n",
    "        if not (min_weight <= path_length <= max_weight):\n",
    "            return False\n",
    "    return True\n",
    "\n",
    "def calculate_path_length(matrice, solution):\n",
    "    # Calculate the total length of the path\n",
    "    length = 0\n",
    "    for i in range(len(solution) - 1):\n",
    "        length += matrice[solution[i]][solution[i + 1]]\n",
    "    length += matrice[solution[-1]][solution[0]]  # return to the start point\n",
    "    return length\n",
    "\n",
    "def generate_neighbor_solution(current_solution, matrice):\n",
    "    # Generate a neighboring solution that respects the interval constraints\n",
    "    while True:\n",
    "        neighbor = current_solution[:]\n",
    "        i, j = random.sample(range(len(neighbor)), 2)\n",
    "        neighbor[i], neighbor[j] = neighbor[j], neighbor[i]\n",
    "        \n",
    "        if is_valid_solution(neighbor, matrice):\n",
    "            return neighbor \n",
    "\n",
    "# Implémentation de l'algorithme hill climbing\n",
    "def hill_climbing(matrice, num_iterations=1000):\n",
    "    num_sommets = len(matrice)\n",
    "    execution_times = []\n",
    "    distances = []\n",
    "    while True:\n",
    "        start_time = time.time()\n",
    "        current_solution = list(range(num_sommets))\n",
    "        random.shuffle(current_solution)\n",
    "        if is_valid_solution(current_solution, matrice):\n",
    "            break\n",
    "    current_length = calculate_path_length(matrice, current_solution)\n",
    "    \n",
    "    for _ in range(num_iterations):\n",
    "        # Generate a valid neighboring solution\n",
    "        next_solution = generate_neighbor_solution(current_solution, matrice) \n",
    "        next_length = calculate_path_length(matrice, next_solution)\n",
    "        \n",
    "        # If the neighboring solution is better, adopt it\n",
    "        if next_length < current_length:\n",
    "            current_solution = next_solution\n",
    "            current_length = next_length\n",
    "        \n",
    "        end_time = time.time()\n",
    "        execution_times.append(end_time - start_time)\n",
    "        distances.append(current_length)  # Record the distance, not the solution\n",
    "    \n",
    "    return current_solution, current_length, execution_times, distances "
   ]
  },
  {
   "cell_type": "code",
   "execution_count": 17,
   "metadata": {},
   "outputs": [],
   "source": [
    "def plot_route(path, points):\n",
    "    plt.figure(figsize=(10, 5))\n",
    "    plt.scatter(points[:, 0], points[:, 1], c='blue')\n",
    "    for i in range(len(path) - 1):\n",
    "        from_node = path[i]\n",
    "        to_node = path[i + 1]\n",
    "        plt.plot([points[from_node, 0], points[to_node, 0]], [points[from_node, 1], points[to_node, 1]], 'k-')\n",
    "    plt.title('Best Route Found')\n",
    "    plt.xlabel('X Coordinate')\n",
    "    plt.ylabel('Y Coordinate')\n",
    "    plt.show()    "
   ]
  },
  {
   "cell_type": "code",
   "execution_count": 18,
   "metadata": {},
   "outputs": [],
   "source": [
    "# best_path, best_path_length = hill_climbing()   \n",
    "# print(f\"Meilleur chemin trouvé pour eme iteration : {best_path} avec une longueur de {best_path_length}\")   "
   ]
  },
  {
   "cell_type": "code",
   "execution_count": 19,
   "metadata": {},
   "outputs": [
    {
     "name": "stdout",
     "output_type": "stream",
     "text": [
      "\n",
      "Matrice pondérée:\n",
      "[inf 10.  9. inf inf]\n",
      "[10. inf inf inf  7.]\n",
      "[ 9. inf inf  2. inf]\n",
      "[inf inf  2. inf  1.]\n",
      "[inf  7. inf  1. inf]\n",
      "\n",
      "Intervalles des sommets:\n",
      "{0: (7, 13), 1: (10, 24), 2: (5, 22), 3: (7, 24), 4: (2, 7)}\n"
     ]
    },
    {
     "ename": "TypeError",
     "evalue": "is_valid_solution() missing 1 required positional argument: 'intervalles'",
     "output_type": "error",
     "traceback": [
      "\u001b[1;31m---------------------------------------------------------------------------\u001b[0m",
      "\u001b[1;31mTypeError\u001b[0m                                 Traceback (most recent call last)",
      "Cell \u001b[1;32mIn[19], line 13\u001b[0m\n\u001b[0;32m     10\u001b[0m \u001b[38;5;28mprint\u001b[39m(tsp_intervalles)\n\u001b[0;32m     12\u001b[0m \u001b[38;5;66;03m# Résoudre le problème avec l'algorithme hill climbing\u001b[39;00m\n\u001b[1;32m---> 13\u001b[0m solution, length \u001b[38;5;241m=\u001b[39m hill_climbing(tsp_matrice)\n\u001b[0;32m     15\u001b[0m \u001b[38;5;66;03m# Afficher la solution trouvée et sa longueur\u001b[39;00m\n\u001b[0;32m     16\u001b[0m \u001b[38;5;28mprint\u001b[39m(\u001b[38;5;124m\"\u001b[39m\u001b[38;5;130;01m\\n\u001b[39;00m\u001b[38;5;124mSolution trouvée par hill climbing:\u001b[39m\u001b[38;5;124m\"\u001b[39m)\n",
      "Cell \u001b[1;32mIn[16], line 40\u001b[0m, in \u001b[0;36mhill_climbing\u001b[1;34m(matrice, num_iterations)\u001b[0m\n\u001b[0;32m     38\u001b[0m     current_solution \u001b[38;5;241m=\u001b[39m \u001b[38;5;28mlist\u001b[39m(\u001b[38;5;28mrange\u001b[39m(num_sommets))\n\u001b[0;32m     39\u001b[0m     random\u001b[38;5;241m.\u001b[39mshuffle(current_solution)\n\u001b[1;32m---> 40\u001b[0m     \u001b[38;5;28;01mif\u001b[39;00m is_valid_solution(current_solution, matrice):\n\u001b[0;32m     41\u001b[0m         \u001b[38;5;28;01mbreak\u001b[39;00m\n\u001b[0;32m     42\u001b[0m current_length \u001b[38;5;241m=\u001b[39m calculate_path_length(matrice, current_solution)\n",
      "\u001b[1;31mTypeError\u001b[0m: is_valid_solution() missing 1 required positional argument: 'intervalles'"
     ]
    }
   ],
   "source": [
    "tsp_matrice, tsp_intervalles = generate_tsp_incomplete(num_sommets, max_poids_arete)\n",
    "\n",
    "# Afficher la matrice pondérée\n",
    "print(\"\\nMatrice pondérée:\")\n",
    "for row in tsp_matrice:\n",
    "    print(row)\n",
    "\n",
    "# Afficher les intervalles\n",
    "print(\"\\nIntervalles des sommets:\")\n",
    "print(tsp_intervalles)\n",
    "\n",
    "# Résoudre le problème avec l'algorithme hill climbing\n",
    "solution, length = hill_climbing(tsp_matrice)\n",
    "\n",
    "# Afficher la solution trouvée et sa longueur\n",
    "print(\"\\nSolution trouvée par hill climbing:\")\n",
    "print(\"Chemin:\", solution)\n",
    "print(\"Longueur du chemin:\", length)  "
   ]
  }
 ],
 "metadata": {
  "kernelspec": {
   "display_name": "base",
   "language": "python",
   "name": "python3"
  },
  "language_info": {
   "codemirror_mode": {
    "name": "ipython",
    "version": 3
   },
   "file_extension": ".py",
   "mimetype": "text/x-python",
   "name": "python",
   "nbconvert_exporter": "python",
   "pygments_lexer": "ipython3",
   "version": "3.11.7"
  }
 },
 "nbformat": 4,
 "nbformat_minor": 2
}
