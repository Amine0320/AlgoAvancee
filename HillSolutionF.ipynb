{
 "cells": [
  {
   "cell_type": "code",
   "execution_count": 24,
   "metadata": {},
   "outputs": [],
   "source": [
    "import random\n",
    "import numpy as np \n",
    "import matplotlib.pyplot as plt \n",
    "import time\n",
    " "
   ]
  },
  {
   "cell_type": "code",
   "execution_count": 25,
   "metadata": {},
   "outputs": [
    {
     "name": "stdout",
     "output_type": "stream",
     "text": [
      "\n",
      "Matrice pondérée:\n",
      "[inf, 7, 9, inf, 2]\n",
      "[7, inf, inf, inf, inf]\n",
      "[9, inf, inf, 10, inf]\n",
      "[inf, inf, 10, inf, 5]\n",
      "[2, inf, inf, 5, inf]\n"
     ]
    }
   ],
   "source": [
    "# Générer le graphe TSP incomplet\n",
    "def generate_tsp_incomplete(num_sommets, max_poids_arete):\n",
    "    matrice = [[None for _ in range(num_sommets)] for _ in range(num_sommets)]\n",
    "    intervalles = {}\n",
    "    for i in range(num_sommets):\n",
    "        intervalle_start = random.randint(0, 10)\n",
    "        intervalle_end = intervalle_start + random.randint(5, 20)\n",
    "        intervalles[i] = (intervalle_start, intervalle_end)\n",
    "    for i in range(num_sommets):\n",
    "        for j in range(i + 1, num_sommets):\n",
    "            if random.choice([True, False]):\n",
    "                poids = random.randint(1, max_poids_arete)\n",
    "                matrice[i][j] = poids\n",
    "                matrice[j][i] = poids\n",
    "    for i in range(num_sommets):\n",
    "        pas_connexe = True\n",
    "        for j in range(num_sommets):\n",
    "            if matrice[i][j] is None:\n",
    "                matrice[i][j] = float('inf')\n",
    "            else:\n",
    "                pas_connexe = False\n",
    "        if pas_connexe:\n",
    "            poids = random.randint(1, max_poids_arete)\n",
    "            matrice[i][num_sommets-1] = poids\n",
    "            matrice[num_sommets-1][i] = poids\n",
    "    return matrice, intervalles\n",
    "\n",
    "# Générer les données du problème\n",
    "num_sommets = 5\n",
    "max_poids_arete = 10\n",
    "tsp_matrice, tsp_intervalles = generate_tsp_incomplete(num_sommets, max_poids_arete) \n",
    "print(\"\\nMatrice pondérée:\")\n",
    "for row in tsp_matrice:\n",
    "    print(row)  \n",
    "# # Afficher les intervalles\n",
    "# print(\"\\nIntervalles des sommets\")\n",
    "# print(tsp_intervalles)  "
   ]
  },
  {
   "cell_type": "code",
   "execution_count": 26,
   "metadata": {},
   "outputs": [],
   "source": [
    "def calculate_path_length(matrice, solution):\n",
    "    length = 0\n",
    "    for i in range(len(solution) - 1):\n",
    "        if matrice[solution[i]][solution[i + 1]] == float('inf'):\n",
    "            return float('inf')  # Si le chemin n'existe pas, retourner une longueur infinie\n",
    "        length += matrice[solution[i]][solution[i + 1]]\n",
    "    return length\n"
   ]
  },
  {
   "cell_type": "code",
   "execution_count": 27,
   "metadata": {},
   "outputs": [],
   "source": [
    "def is_valid_solution(solution, matrice):\n",
    "    for i in range(len(solution) - 1):\n",
    "        if matrice[solution[i]][solution[i + 1]] == float('inf'):\n",
    "            return False\n",
    "    return True"
   ]
  },
  {
   "cell_type": "code",
   "execution_count": 28,
   "metadata": {},
   "outputs": [],
   "source": [
    "def generate_neighbor_solution(solution, matrice):\n",
    "    num_sommets = len(matrice)\n",
    "    while True: \n",
    "        # Échanger deux sommets aléatoirement\n",
    "        new_solution = solution[:]\n",
    "        i, j = random.sample(range(num_sommets), 2)\n",
    "        new_solution[i], new_solution[j] = new_solution[j], new_solution[i]\n",
    "        \n",
    "        # Vérifier si la nouvelle solution est valide\n",
    "        if is_valid_solution(new_solution, matrice):\n",
    "            return new_solution\n"
   ]
  },
  {
   "cell_type": "code",
   "execution_count": 29,
   "metadata": {},
   "outputs": [],
   "source": [
    "def hill_climbing(matrice, num_iterations=1000):\n",
    "    num_sommets = len(matrice)\n",
    "    \n",
    "    # Générer une solution initiale aléatoire valide\n",
    "    while True:\n",
    "        current_solution = list(range(num_sommets))\n",
    "        random.shuffle(current_solution)\n",
    "        if is_valid_solution(current_solution, matrice):\n",
    "            break\n",
    "    current_length = calculate_path_length(matrice, current_solution)\n",
    "    \n",
    "    for _ in range(num_iterations):\n",
    "        # Générer une solution voisine valide\n",
    "        next_solution = generate_neighbor_solution(current_solution, matrice)\n",
    "        next_length = calculate_path_length(matrice, next_solution)\n",
    "        \n",
    "        # Si la solution voisine est meilleure, l'adopter\n",
    "        if next_length < current_length:\n",
    "            current_solution = next_solution\n",
    "            current_length = next_length\n",
    "            \n",
    "    return current_solution, current_length  "
   ]
  },
  {
   "cell_type": "code",
   "execution_count": 30,
   "metadata": {},
   "outputs": [],
   "source": [
    "def plot_route(path, points):\n",
    "    plt.figure(figsize=(10, 5))\n",
    "    plt.scatter(points[:, 0], points[:, 1], c='blue')\n",
    "    for i in range(len(path) - 1):\n",
    "        from_node = path[i]\n",
    "        to_node = path[i + 1]\n",
    "        plt.plot([points[from_node, 0], points[to_node, 0]], [points[from_node, 1], points[to_node, 1]], 'k-')\n",
    "    plt.title('Best Route Found')\n",
    "    plt.xlabel('X Coordinate')\n",
    "    plt.ylabel('Y Coordinate')\n",
    "    plt.show()    "
   ]
  },
  {
   "cell_type": "code",
   "execution_count": 32,
   "metadata": {},
   "outputs": [],
   "source": [
    "def plot_performance(execution_times, distances):\n",
    "    fig, ax1 = plt.subplots()\n",
    "\n",
    "    color = 'tab:red'\n",
    "    ax1.set_xlabel('Iteration')\n",
    "    ax1.set_ylabel('Execution Time (s)', color=color)\n",
    "    ax1.plot(execution_times, color=color)\n",
    "    ax1.tick_params(axis='y', labelcolor=color)\n",
    "\n",
    "    ax2 = ax1.twinx()  # instantiate a second axes that shares the same x-axis\n",
    "    color = 'tab:blue'\n",
    "    ax2.set_ylabel('Best Path Length', color=color)  \n",
    "    ax2.plot(distances, color=color)\n",
    "    ax2.tick_params(axis='y', labelcolor=color)\n",
    "\n",
    "    fig.tight_layout()   \n",
    "    plt.title('Performance Over Iterations')\n",
    "    plt.show() "
   ]
  },
  {
   "cell_type": "code",
   "execution_count": 31,
   "metadata": {},
   "outputs": [
    {
     "name": "stdout",
     "output_type": "stream",
     "text": [
      "\n",
      "Matrice pondérée:\n",
      "[inf, 7, 9, inf, 2]\n",
      "[7, inf, inf, inf, inf]\n",
      "[9, inf, inf, 10, inf]\n",
      "[inf, inf, 10, inf, 5]\n",
      "[2, inf, inf, 5, inf]\n",
      "Solution trouvée : [1, 0, 4, 3, 2] avec une longueur de chemin de : 24\n"
     ]
    },
    {
     "data": {
      "image/png": "[encoded data removed]",
      "text/plain": [
       "<Figure size 1000x500 with 1 Axes>"
      ]
     },
     "metadata": {},
     "output_type": "display_data"
    }
   ],
   "source": [
    "points = np.random.rand(num_sommets, 2) * 100 \n",
    "print(\"\\nMatrice pondérée:\")\n",
    "for row in tsp_matrice:\n",
    "    print(row) \n",
    "solution, length = hill_climbing(tsp_matrice)   \n",
    "print(f\"Solution trouvée : {solution} avec une longueur de chemin de : {length}\")    \n",
    "if solution:\n",
    "    plot_route(solution, points)  "
   ]
  },
  {
   "cell_type": "code",
   "execution_count": null,
   "metadata": {},
   "outputs": [],
   "source": []
  }
 ],
 "metadata": {
  "kernelspec": {
   "display_name": "base",
   "language": "python",
   "name": "python3"
  },
  "language_info": {
   "codemirror_mode": {
    "name": "ipython",
    "version": 3
   },
   "file_extension": ".py",
   "mimetype": "text/x-python",
   "name": "python",
   "nbconvert_exporter": "python",
   "pygments_lexer": "ipython3",
   "version": "3.11.7"
  }
 },
 "nbformat": 4,
 "nbformat_minor": 2
}
