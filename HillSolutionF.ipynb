{
 "cells": [
  {
   "cell_type": "code",
   "execution_count": null,
   "metadata": {},
   "outputs": [],
   "source": [
    "import random\n",
    "import numpy as np "
   ]
  },
  {
   "cell_type": "code",
   "execution_count": null,
   "metadata": {},
   "outputs": [
    {
     "name": "stdout",
     "output_type": "stream",
     "text": [
      "\n",
      "Matrice pondérée:\n",
      "[inf, inf, 7, inf, inf]\n",
      "[inf, inf, 3, inf, inf]\n",
      "[7, 3, inf, inf, inf]\n",
      "[inf, inf, inf, inf, 1]\n",
      "[inf, inf, inf, 1, inf]\n"
     ]
    }
   ],
   "source": [
    "# Générer le graphe TSP incomplet\n",
    "def generate_tsp_incomplete(num_sommets, max_poids_arete):\n",
    "    matrice = [[None for _ in range(num_sommets)] for _ in range(num_sommets)]\n",
    "    intervalles = {}\n",
    "    for i in range(num_sommets):\n",
    "        intervalle_start = random.randint(0, 10)\n",
    "        intervalle_end = intervalle_start + random.randint(5, 20)\n",
    "        intervalles[i] = (intervalle_start, intervalle_end)\n",
    "    for i in range(num_sommets):\n",
    "        for j in range(i + 1, num_sommets):\n",
    "            if random.choice([True, False]):\n",
    "                poids = random.randint(1, max_poids_arete)\n",
    "                matrice[i][j] = poids\n",
    "                matrice[j][i] = poids\n",
    "    for i in range(num_sommets):\n",
    "        pas_connexe = True\n",
    "        for j in range(num_sommets):\n",
    "            if matrice[i][j] is None:\n",
    "                matrice[i][j] = float('inf')\n",
    "            else:\n",
    "                pas_connexe = False\n",
    "        if pas_connexe:\n",
    "            poids = random.randint(1, max_poids_arete)\n",
    "            matrice[i][num_sommets-1] = poids\n",
    "            matrice[num_sommets-1][i] = poids\n",
    "    return matrice, intervalles\n",
    "\n",
    "# Générer les données du problème\n",
    "num_sommets = 5\n",
    "max_poids_arete = 10\n",
    "tsp_matrice, tsp_intervalles = generate_tsp_incomplete(num_sommets, max_poids_arete) \n",
    "print(\"\\nMatrice pondérée:\")\n",
    "for row in tsp_matrice:\n",
    "    print(row)  \n",
    "# # Afficher les intervalles\n",
    "# print(\"\\nIntervalles des sommets\")\n",
    "# print(tsp_intervalles)  "
   ]
  },
  {
   "cell_type": "code",
   "execution_count": null,
   "metadata": {},
   "outputs": [],
   "source": [
    "def calculate_path_length(matrice, solution):\n",
    "    length = 0\n",
    "    for i in range(len(solution) - 1):\n",
    "        if matrice[solution[i]][solution[i + 1]] == float('inf'):\n",
    "            return float('inf')  # Si le chemin n'existe pas, retourner une longueur infinie\n",
    "        length += matrice[solution[i]][solution[i + 1]]\n",
    "    return length\n"
   ]
  },
  {
   "cell_type": "code",
   "execution_count": null,
   "metadata": {},
   "outputs": [],
   "source": [
    "def is_valid_solution(solution, matrice):\n",
    "    for i in range(len(solution) - 1):\n",
    "        if matrice[solution[i]][solution[i + 1]] == float('inf'):\n",
    "            return False\n",
    "    return True"
   ]
  },
  {
   "cell_type": "code",
   "execution_count": null,
   "metadata": {},
   "outputs": [],
   "source": [
    "def generate_neighbor_solution(solution, matrice):\n",
    "    num_sommets = len(matrice)\n",
    "    while True: \n",
    "        # Échanger deux sommets aléatoirement\n",
    "        new_solution = solution[:]\n",
    "        i, j = random.sample(range(num_sommets), 2)\n",
    "        new_solution[i], new_solution[j] = new_solution[j], new_solution[i]\n",
    "        \n",
    "        # Vérifier si la nouvelle solution est valide\n",
    "        if is_valid_solution(new_solution, matrice):\n",
    "            return new_solution\n"
   ]
  },
  {
   "cell_type": "code",
   "execution_count": null,
   "metadata": {},
   "outputs": [],
   "source": [
    "def hill_climbing(matrice, num_iterations=1000):\n",
    "    num_sommets = len(matrice)\n",
    "    \n",
    "    # Générer une solution initiale aléatoire valide\n",
    "    while True:\n",
    "        current_solution = list(range(num_sommets))\n",
    "        random.shuffle(current_solution)\n",
    "        if is_valid_solution(current_solution, matrice):\n",
    "            break\n",
    "    current_length = calculate_path_length(matrice, current_solution)\n",
    "    \n",
    "    for _ in range(num_iterations):\n",
    "        # Générer une solution voisine valide\n",
    "        next_solution = generate_neighbor_solution(current_solution, matrice)\n",
    "        next_length = calculate_path_length(matrice, next_solution)\n",
    "        \n",
    "        # Si la solution voisine est meilleure, l'adopter\n",
    "        if next_length < current_length:\n",
    "            current_solution = next_solution\n",
    "            current_length = next_length\n",
    "            \n",
    "    return current_solution, current_length  "
   ]
  },
  {
   "cell_type": "code",
   "execution_count": 112,
   "metadata": {},
   "outputs": [
    {
     "name": "stdout",
     "output_type": "stream",
     "text": [
      "\n",
      "Matrice pondérée:\n",
      "[inf, inf, 7, inf, inf]\n",
      "[inf, inf, 3, inf, inf]\n",
      "[7, 3, inf, inf, inf]\n",
      "[inf, inf, inf, inf, 1]\n",
      "[inf, inf, inf, 1, inf]\n"
     ]
    },
    {
     "ename": "KeyboardInterrupt",
     "evalue": "",
     "output_type": "error",
     "traceback": [
      "\u001b[1;31m---------------------------------------------------------------------------\u001b[0m",
      "\u001b[1;31mKeyboardInterrupt\u001b[0m                         Traceback (most recent call last)",
      "Cell \u001b[1;32mIn[112], line 11\u001b[0m\n\u001b[0;32m      9\u001b[0m \u001b[38;5;28;01mfor\u001b[39;00m row \u001b[38;5;129;01min\u001b[39;00m tsp_matrice:\n\u001b[0;32m     10\u001b[0m     \u001b[38;5;28mprint\u001b[39m(row) \n\u001b[1;32m---> 11\u001b[0m solution, length \u001b[38;5;241m=\u001b[39m hill_climbing(tsp_matrice)   \n\u001b[0;32m     12\u001b[0m \u001b[38;5;28mprint\u001b[39m(\u001b[38;5;124mf\u001b[39m\u001b[38;5;124m\"\u001b[39m\u001b[38;5;124mSolution trouvée : \u001b[39m\u001b[38;5;132;01m{\u001b[39;00msolution\u001b[38;5;132;01m}\u001b[39;00m\u001b[38;5;124m avec une longueur de chemin de : \u001b[39m\u001b[38;5;132;01m{\u001b[39;00mlength\u001b[38;5;132;01m}\u001b[39;00m\u001b[38;5;124m\"\u001b[39m)\n",
      "Cell \u001b[1;32mIn[110], line 7\u001b[0m, in \u001b[0;36mhill_climbing\u001b[1;34m(matrice, num_iterations)\u001b[0m\n\u001b[0;32m      5\u001b[0m \u001b[38;5;28;01mwhile\u001b[39;00m \u001b[38;5;28;01mTrue\u001b[39;00m:\n\u001b[0;32m      6\u001b[0m     current_solution \u001b[38;5;241m=\u001b[39m \u001b[38;5;28mlist\u001b[39m(\u001b[38;5;28mrange\u001b[39m(num_sommets))\n\u001b[1;32m----> 7\u001b[0m     random\u001b[38;5;241m.\u001b[39mshuffle(current_solution)\n\u001b[0;32m      8\u001b[0m     \u001b[38;5;28;01mif\u001b[39;00m is_valid_solution(current_solution, matrice):\n\u001b[0;32m      9\u001b[0m         \u001b[38;5;28;01mbreak\u001b[39;00m\n",
      "File \u001b[1;32mc:\\Users\\Elbah\\anaconda3\\Lib\\random.py:382\u001b[0m, in \u001b[0;36mRandom.shuffle\u001b[1;34m(self, x)\u001b[0m\n\u001b[0;32m    379\u001b[0m randbelow \u001b[38;5;241m=\u001b[39m \u001b[38;5;28mself\u001b[39m\u001b[38;5;241m.\u001b[39m_randbelow\n\u001b[0;32m    380\u001b[0m \u001b[38;5;28;01mfor\u001b[39;00m i \u001b[38;5;129;01min\u001b[39;00m \u001b[38;5;28mreversed\u001b[39m(\u001b[38;5;28mrange\u001b[39m(\u001b[38;5;241m1\u001b[39m, \u001b[38;5;28mlen\u001b[39m(x))):\n\u001b[0;32m    381\u001b[0m     \u001b[38;5;66;03m# pick an element in x[:i+1] with which to exchange x[i]\u001b[39;00m\n\u001b[1;32m--> 382\u001b[0m     j \u001b[38;5;241m=\u001b[39m randbelow(i \u001b[38;5;241m+\u001b[39m \u001b[38;5;241m1\u001b[39m)\n\u001b[0;32m    383\u001b[0m     x[i], x[j] \u001b[38;5;241m=\u001b[39m x[j], x[i]\n",
      "File \u001b[1;32mc:\\Users\\Elbah\\anaconda3\\Lib\\random.py:240\u001b[0m, in \u001b[0;36mRandom._randbelow_with_getrandbits\u001b[1;34m(self, n)\u001b[0m\n\u001b[0;32m    238\u001b[0m getrandbits \u001b[38;5;241m=\u001b[39m \u001b[38;5;28mself\u001b[39m\u001b[38;5;241m.\u001b[39mgetrandbits\n\u001b[0;32m    239\u001b[0m k \u001b[38;5;241m=\u001b[39m n\u001b[38;5;241m.\u001b[39mbit_length()  \u001b[38;5;66;03m# don't use (n-1) here because n can be 1\u001b[39;00m\n\u001b[1;32m--> 240\u001b[0m r \u001b[38;5;241m=\u001b[39m getrandbits(k)  \u001b[38;5;66;03m# 0 <= r < 2**k\u001b[39;00m\n\u001b[0;32m    241\u001b[0m \u001b[38;5;28;01mwhile\u001b[39;00m r \u001b[38;5;241m>\u001b[39m\u001b[38;5;241m=\u001b[39m n:\n\u001b[0;32m    242\u001b[0m     r \u001b[38;5;241m=\u001b[39m getrandbits(k)\n",
      "\u001b[1;31mKeyboardInterrupt\u001b[0m: "
     ]
    },
    {
     "ename": "",
     "evalue": "",
     "output_type": "error",
     "traceback": [
      "\u001b[1;31mThe Kernel crashed while executing code in the current cell or a previous cell. \n",
      "\u001b[1;31mPlease review the code in the cell(s) to identify a possible cause of the failure. \n",
      "\u001b[1;31mClick <a href='https://aka.ms/vscodeJupyterKernelCrash'>here</a> for more info. \n",
      "\u001b[1;31mView Jupyter <a href='command:jupyter.viewOutput'>log</a> for further details."
     ]
    }
   ],
   "source": [
    "matrice = [\n",
    "    [0, 10, float('inf'), 20, 5],\n",
    "    [10, 0, 15, float('inf') , 5 ],\n",
    "    [float('inf'), 15, 0, 25 , 8 ],\n",
    "    [20, float('inf'), 25, 0 , 9 ],\n",
    "    [2, float('inf'), 15, 5 , 4 ] \n",
    "]  \n",
    "print(\"\\nMatrice pondérée:\")\n",
    "for row in tsp_matrice:\n",
    "    print(row) \n",
    "solution, length = hill_climbing(tsp_matrice)   \n",
    "print(f\"Solution trouvée : {solution} avec une longueur de chemin de : {length}\")   "
   ]
  }
 ],
 "metadata": {
  "kernelspec": {
   "display_name": "base",
   "language": "python",
   "name": "python3"
  },
  "language_info": {
   "codemirror_mode": {
    "name": "ipython",
    "version": 3
   },
   "file_extension": ".py",
   "mimetype": "text/x-python",
   "name": "python",
   "nbconvert_exporter": "python",
   "pygments_lexer": "ipython3",
   "version": "3.11.7"
  }
 },
 "nbformat": 4,
 "nbformat_minor": 2
}
