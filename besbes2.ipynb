{
 "cells": [
  {
   "cell_type": "code",
   "execution_count": 32,
   "metadata": {},
   "outputs": [],
   "source": [
    "import random\n",
    "import numpy as np\n",
    "import matplotlib.pyplot as plt "
   ]
  },
  {
   "cell_type": "code",
   "execution_count": 33,
   "metadata": {},
   "outputs": [],
   "source": [
    "def generate_tsp_incomplete(num_sommets, max_poids_arete, max_intervalle_inf, max_intervalle_sup):\n",
    "    matrice = [[float('inf') for _ in range(num_sommets)] for _ in range(num_sommets)]\n",
    "    intervalles = {}\n",
    "\n",
    "    for i in range(num_sommets):\n",
    "        intervalle_start = random.randint(0, max_intervalle_inf)\n",
    "        intervalle_end = intervalle_start + random.randint(max_intervalle_inf, max_intervalle_sup)\n",
    "        intervalles[i] = (intervalle_start, intervalle_end)\n",
    "\n",
    "    connected = set([0])\n",
    "    while len(connected) < num_sommets:\n",
    "        min_edge = (None, None, float('inf'))\n",
    "        for u in connected:\n",
    "            for v in range(num_sommets):\n",
    "                if v not in connected and u != v:\n",
    "                    poids = random.randint(1, max_poids_arete)\n",
    "                    if poids < min_edge[2]:\n",
    "                        min_edge = (u, v, poids)\n",
    "        u, v, poids = min_edge\n",
    "        if u is not None and v is not None:\n",
    "            matrice[u][v] = poids\n",
    "            matrice[v][u] = poids\n",
    "            connected.add(v)\n",
    "\n",
    "    for i in range(num_sommets):\n",
    "        for j in range(i + 1, num_sommets):\n",
    "            if matrice[i][j] == float('inf') and random.choice([True, False]):\n",
    "                poids = random.randint(1, max_poids_arete)\n",
    "                matrice[i][j] = poids\n",
    "                matrice[j][i] = poids\n",
    "\n",
    "    return np.array(matrice), intervalles\n"
   ]
  },
  {
   "cell_type": "code",
   "execution_count": 34,
   "metadata": {},
   "outputs": [
    {
     "ename": "TypeError",
     "evalue": "generate_tsp_incomplete() missing 2 required positional arguments: 'max_intervalle_inf' and 'max_intervalle_sup'",
     "output_type": "error",
     "traceback": [
      "\u001b[1;31m---------------------------------------------------------------------------\u001b[0m",
      "\u001b[1;31mTypeError\u001b[0m                                 Traceback (most recent call last)",
      "Cell \u001b[1;32mIn[34], line 5\u001b[0m\n\u001b[0;32m      3\u001b[0m max_intervalle_inf \u001b[38;5;241m=\u001b[39m \u001b[38;5;241m1\u001b[39m \n\u001b[0;32m      4\u001b[0m \u001b[38;5;66;03m# Générer les données du problème\u001b[39;00m\n\u001b[1;32m----> 5\u001b[0m tsp_matrice, tsp_intervalles , max_intervalle_inf , max_intervalle_sup \u001b[38;5;241m=\u001b[39m generate_tsp_incomplete(num_sommets, max_poids_arete)\n\u001b[0;32m      7\u001b[0m \u001b[38;5;66;03m# Afficher la matrice pondérée\u001b[39;00m\n\u001b[0;32m      8\u001b[0m \u001b[38;5;28mprint\u001b[39m(\u001b[38;5;124m\"\u001b[39m\u001b[38;5;130;01m\\n\u001b[39;00m\u001b[38;5;124mMatrice pondérée:\u001b[39m\u001b[38;5;124m\"\u001b[39m)\n",
      "\u001b[1;31mTypeError\u001b[0m: generate_tsp_incomplete() missing 2 required positional arguments: 'max_intervalle_inf' and 'max_intervalle_sup'"
     ]
    }
   ],
   "source": [
    "num_sommets = 5\n",
    "max_poids_arete = 10\n",
    "max_intervalle_inf = 1 \n",
    "# Générer les données du problème\n",
    "tsp_matrice, tsp_intervalles  = generate_tsp_incomplete(num_sommets, max_poids_arete, max_intervalle_inf , max_intervalle_sup)\n",
    "\n",
    "# Afficher la matrice pondérée\n",
    "print(\"\\nMatrice pondérée:\")\n",
    "for row in tsp_matrice:\n",
    "    print(row)\n",
    "\n",
    "# Afficher les intervalles \n",
    "print(\"\\nIntervalles des sommets\")\n",
    "print(tsp_intervalles)   "
   ]
  },
  {
   "cell_type": "code",
   "execution_count": null,
   "metadata": {},
   "outputs": [],
   "source": [
    "def calculate_cost(tour, matrice):\n",
    "    cost = 0\n",
    "    for i in range(len(tour) - 1):\n",
    "        if matrice[tour[i]][tour[i + 1]] == float('inf'):\n",
    "            return float('inf')\n",
    "        cost += matrice[tour[i]][tour[i + 1]]\n",
    "    if matrice[tour[-1]][tour[0]] == float('inf'):\n",
    "        return float('inf')\n",
    "    cost += matrice[tour[-1]][tour[0]]\n",
    "    return cost\n"
   ]
  },
  {
   "cell_type": "code",
   "execution_count": null,
   "metadata": {},
   "outputs": [],
   "source": [
    "def is_within_intervals(tour, intervalles):\n",
    "    for i in range(len(tour)):\n",
    "        visit_time = i\n",
    "        interval_start, interval_end = intervalles[tour[i]]\n",
    "        if not (interval_start <= visit_time <= interval_end):\n",
    "            return False\n",
    "    return True"
   ]
  },
  {
   "cell_type": "code",
   "execution_count": null,
   "metadata": {},
   "outputs": [],
   "source": [
    "def generate_neighbor(tour, matrice, intervalles):\n",
    "    attempts = 0\n",
    "    max_attempts = 100  # Early termination threshold\n",
    "    while attempts < max_attempts:\n",
    "        i, j = random.sample(range(len(tour)), 2)\n",
    "        tour[i], tour[j] = tour[j], tour[i]\n",
    "        if calculate_cost(tour, matrice) != float('inf') and is_within_intervals(tour, intervalles):\n",
    "            return tour\n",
    "        attempts += 1\n",
    "    return tour  # Return the original tour if no valid neighbor found"
   ]
  },
  {
   "cell_type": "code",
   "execution_count": null,
   "metadata": {},
   "outputs": [],
   "source": [
    "def hill_climbing(matrice, intervalles, max_iterations=1000):\n",
    "    num_sommets = len(matrice)\n",
    "    max_initial_attempts = 100\n",
    "    attempts = 0\n",
    "\n",
    "    while attempts < max_initial_attempts:\n",
    "        current_solution = list(range(num_sommets)) + list(np.random.choice(range(num_sommets), size=num_sommets, replace=True))\n",
    "        random.shuffle(current_solution)\n",
    "\n",
    "        if calculate_cost(current_solution, matrice) != float('inf') and is_within_intervals(current_solution, intervalles):\n",
    "            break\n",
    "        \n",
    "        attempts += 1\n",
    "\n",
    "    if attempts == max_initial_attempts:\n",
    "        return None, float('inf')   \n",
    "\n",
    "    current_cost = calculate_cost(current_solution, matrice)\n",
    "\n",
    "    for _ in range(max_iterations):\n",
    "        neighbor = generate_neighbor(current_solution.copy(), matrice, intervalles)\n",
    "        neighbor_cost = calculate_cost(neighbor, matrice)\n",
    "        \n",
    "        if neighbor_cost < current_cost and is_within_intervals(neighbor, intervalles):\n",
    "            current_solution = neighbor\n",
    "            current_cost = neighbor_cost\n",
    "\n",
    "    return current_solution, current_cost"
   ]
  },
  {
   "cell_type": "code",
   "execution_count": null,
   "metadata": {},
   "outputs": [],
   "source": [
    "def plot_route(path, points, matrice):\n",
    "    plt.figure(figsize=(10, 5))\n",
    "    plt.scatter(points[:, 0], points[:, 1], c='blue')\n",
    "\n",
    "    start_node = path[0]\n",
    "    plt.scatter(points[start_node, 0], points[start_node, 1], c='red', label='Start Node')\n",
    "\n",
    "    for idx, point in enumerate(points):\n",
    "        plt.text(point[0], point[1], str(idx), fontsize=12, ha='right', va='bottom')\n",
    "\n",
    "    for i in range(len(path) - 1):\n",
    "        from_node = path[i]\n",
    "        to_node = path[i + 1]\n",
    "        plt.plot([points[from_node, 0], points[to_node, 0]], \n",
    "                 [points[from_node, 1], points[to_node, 1]], 'k-')\n",
    "        mid_point = (points[from_node] + points[to_node]) / 2\n",
    "        weight = matrice[from_node][to_node]\n",
    "        plt.text(mid_point[0] + 2, mid_point[1] + 2, f'{weight:.2f}', fontsize=9, color='green')\n",
    "\n",
    "    from_node = path[-1]\n",
    "    to_node = path[0]\n",
    "    plt.plot([points[from_node, 0], points[to_node, 0]], \n",
    "             [points[from_node, 1], points[to_node, 1]], 'k-')\n",
    "    mid_point = (points[from_node] + points[to_node]) / 2\n",
    "    weight = matrice[from_node][to_node]\n",
    "    plt.text(mid_point[0] + 2, mid_point[1] + 2, f'{weight:.2f}', fontsize=9, color='green')\n",
    "\n",
    "    plt.title('Meilleur Itinéraire Trouvé') \n",
    "    plt.xlabel('X Coordinate')\n",
    "    plt.ylabel('Y Coordinate')\n",
    "    plt.legend()\n",
    "    plt.show()"
   ]
  },
  {
   "cell_type": "code",
   "execution_count": null,
   "metadata": {},
   "outputs": [],
   "source": [
    "# Example usage\n",
    "num_sommets = 5 \n",
    "max_poids_arete = 10 \n",
    "max_intervalle_inf = 1\n",
    "max_intervalle_sup = 100\n",
    "tsp_matrice, tsp_intervalles = generate_tsp_incomplete(num_sommets, max_poids_arete, max_intervalle_inf, max_intervalle_sup)\n",
    "\n",
    "solution, cost = hill_climbing(tsp_matrice, tsp_intervalles)\n",
    "print(tsp_intervalles)\n",
    "print(tsp_matrice)    \n",
    "if solution:\n",
    "    points = np.random.rand(num_sommets, 2) * 100 \n",
    "    plot_route(solution, points, tsp_matrice)\n",
    "    print(\"Meilleur chemin:\", solution)\n",
    "    print(\"Longeur de chemin:\", cost)\n",
    "else: \n",
    "    print(\"Pas de solution pour ce graph !\")"
   ]
  }
 ],
 "metadata": {
  "kernelspec": {
   "display_name": "base",
   "language": "python",
   "name": "python3"
  },
  "language_info": {
   "codemirror_mode": {
    "name": "ipython",
    "version": 3
   },
   "file_extension": ".py",
   "mimetype": "text/x-python",
   "name": "python",
   "nbconvert_exporter": "python",
   "pygments_lexer": "ipython3",
   "version": "3.11.7"
  }
 },
 "nbformat": 4,
 "nbformat_minor": 2
}
